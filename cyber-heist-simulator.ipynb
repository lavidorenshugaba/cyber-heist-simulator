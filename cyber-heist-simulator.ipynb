{
 "cells": [
  {
   "cell_type": "code",
   "execution_count": 1,
   "id": "6ce24cf7-ad15-47bb-ba9f-f03686f4a72d",
   "metadata": {},
   "outputs": [
    {
     "name": "stdout",
     "output_type": "stream",
     "text": [
      "Welcome to Cyber Heist Simulator!\n",
      "Objective: Bypass multiple digital security layers to steal secret data.\n",
      "Win by bypassing all layers without triggering the alarm.\n",
      "Lose if you trigger the alarm or make too many wrong moves.\n",
      "\n",
      "Let's begin...\n",
      "\n",
      "Layer 1: Firewall\n",
      "You need to guess the correct port number between 1 and 10 to bypass.\n"
     ]
    },
    {
     "name": "stdin",
     "output_type": "stream",
     "text": [
      "Enter your guess (1-10):  7\n"
     ]
    },
    {
     "name": "stdout",
     "output_type": "stream",
     "text": [
      "Correct! Firewall bypassed.\n",
      "\n",
      "Layer 2: Password System\n",
      "Crack the password by guessing from a list of possibilities.\n"
     ]
    },
    {
     "name": "stdin",
     "output_type": "stream",
     "text": [
      "Enter your password guess:  admin123\n"
     ]
    },
    {
     "name": "stdout",
     "output_type": "stream",
     "text": [
      "Password cracked! Moving on.\n",
      "\n",
      "Layer 3: Security Logs\n",
      "Analyze logs to find the suspicious entry. Enter the log number (1-5).\n"
     ]
    },
    {
     "name": "stdin",
     "output_type": "stream",
     "text": [
      "Enter log number (1-5):  3\n"
     ]
    },
    {
     "name": "stdout",
     "output_type": "stream",
     "text": [
      "Found: Suspicious IP. Logs cleared!\n",
      "\n",
      "Layer 4: Encrypted Vault\n",
      "Decrypt by solving a simple math puzzle: What is 5 * 8 - 10?\n"
     ]
    },
    {
     "name": "stdin",
     "output_type": "stream",
     "text": [
      "Enter your answer:  30\n"
     ]
    },
    {
     "name": "stdout",
     "output_type": "stream",
     "text": [
      "Decrypted! You stole the secret data.\n",
      "\n",
      "Congratulations! You won the game.\n"
     ]
    }
   ],
   "source": [
    "# Cyber Heist Simulator\n",
    "# This is a simple text-based adventure game based on the provided game concept.\n",
    "# It demonstrates basic Python concepts: variables, user input, operators, types, data structures,\n",
    "# decision making (conditional statements), loops, and functions.\n",
    "\n",
    "# Import necessary modules (though minimal for basics)\n",
    "import random  # For random elements in the game\n",
    "\n",
    "# Global variables (demonstrating variables and types)\n",
    "game_title = \"Cyber Heist Simulator\"  # String type\n",
    "objective = \"Bypass multiple digital security layers to steal secret data.\"  # String\n",
    "max_attempts = 3  # Integer type for maximum wrong moves before alarm\n",
    "alarm_triggered = False  # Boolean type to track if alarm is triggered\n",
    "security_layers = [\"Firewall\", \"Password System\", \"Security Logs\", \"Encrypted Vault\"]  # List data structure\n",
    "\n",
    "# Function to display introduction (demonstrating functions)\n",
    "def display_intro():\n",
    "    print(f\"Welcome to {game_title}!\")\n",
    "    print(f\"Objective: {objective}\")\n",
    "    print(\"Win by bypassing all layers without triggering the alarm.\")\n",
    "    print(\"Lose if you trigger the alarm or make too many wrong moves.\")\n",
    "    print(\"\\nLet's begin...\\n\")\n",
    "\n",
    "# Function for Firewall layer (demonstrating user input, conditionals, loops, operators)\n",
    "def bypass_firewall(attempts_left):\n",
    "    print(\"Layer 1: Firewall\")\n",
    "    print(\"You need to guess the correct port number between 1 and 10 to bypass.\")\n",
    "    secret_port = random.randint(1, 10)  # Random integer (operators: randint uses range)\n",
    "    guessed = False  # Boolean for loop control\n",
    "    \n",
    "    while not guessed and attempts_left > 0:  # While loop with conditional\n",
    "        user_guess = input(\"Enter your guess (1-10): \")  # User input as string\n",
    "        try:\n",
    "            user_guess = int(user_guess)  # Type conversion: str to int\n",
    "            if user_guess == secret_port:  # Conditional: equality operator\n",
    "                print(\"Correct! Firewall bypassed.\")\n",
    "                guessed = True\n",
    "            elif user_guess < secret_port:  # Comparison operators\n",
    "                print(\"Too low. Try again.\")\n",
    "                attempts_left -= 1  # Arithmetic operator: subtraction\n",
    "            else:\n",
    "                print(\"Too high. Try again.\")\n",
    "                attempts_left -= 1\n",
    "        except ValueError:  # Handling type errors\n",
    "            print(\"Invalid input. Must be a number.\")\n",
    "            attempts_left -= 1\n",
    "    \n",
    "    if not guessed:\n",
    "        print(\"Too many wrong guesses. Alarm triggered!\")\n",
    "    return guessed, attempts_left  # Return multiple values (tuple type implicitly)\n",
    "\n",
    "# Function for Password System layer (demonstrating lists, loops, conditionals)\n",
    "def bypass_password(attempts_left):\n",
    "    print(\"\\nLayer 2: Password System\")\n",
    "    print(\"Crack the password by guessing from a list of possibilities.\")\n",
    "    passwords = [\"admin123\", \"password\", \"letmein\", \"cyberheist\", \"vaultbreaker\"]  # List data structure\n",
    "    secret_password = random.choice(passwords)  # Random selection from list\n",
    "    \n",
    "    for attempt in range(attempts_left):  # For loop with range\n",
    "        user_guess = input(\"Enter your password guess: \").strip()  # User input, string method\n",
    "        if user_guess == secret_password:  # Conditional check\n",
    "            print(\"Password cracked! Moving on.\")\n",
    "            return True, attempts_left - attempt\n",
    "        else:\n",
    "            print(f\"Wrong password. {attempts_left - attempt - 1} attempts left.\")\n",
    "    \n",
    "    print(\"Password attempts exhausted. Alarm triggered!\")\n",
    "    return False, 0\n",
    "\n",
    "# Function for Security Logs layer (demonstrating dictionaries as data structure, loops, conditionals)\n",
    "def check_security_logs(attempts_left):\n",
    "    print(\"\\nLayer 3: Security Logs\")\n",
    "    print(\"Analyze logs to find the suspicious entry. Enter the log number (1-5).\")\n",
    "    logs = {  # Dictionary data structure: key-value pairs\n",
    "        1: \"Normal access\",\n",
    "        2: \"File download\",\n",
    "        3: \"Suspicious IP\",\n",
    "        4: \"User login\",\n",
    "        5: \"System update\"\n",
    "    }\n",
    "    suspicious_key = 3  # Fixed for simplicity\n",
    "    \n",
    "    while attempts_left > 0:\n",
    "        try:\n",
    "            user_choice = int(input(\"Enter log number (1-5): \"))  # Input and type conversion\n",
    "            if user_choice in logs:  # Membership operator with dict keys\n",
    "                if user_choice == suspicious_key:\n",
    "                    print(f\"Found: {logs[user_choice]}. Logs cleared!\")\n",
    "                    return True, attempts_left\n",
    "                else:\n",
    "                    print(f\"Log {user_choice}: {logs[user_choice]}. Not suspicious.\")\n",
    "                    attempts_left -= 1\n",
    "            else:\n",
    "                print(\"Invalid log number.\")\n",
    "                attempts_left -= 1\n",
    "        except ValueError:\n",
    "            print(\"Invalid input.\")\n",
    "            attempts_left -= 1\n",
    "    \n",
    "    print(\"Failed to clear logs. Alarm triggered!\")\n",
    "    return False, 0\n",
    "\n",
    "# Function for Encrypted Vault layer (demonstrating functions calling others, nested conditionals)\n",
    "def open_encrypted_vault(attempts_left):\n",
    "    print(\"\\nLayer 4: Encrypted Vault\")\n",
    "    print(\"Decrypt by solving a simple math puzzle: What is 5 * 8 - 10?\")\n",
    "    correct_answer = 5 * 8 - 10  # Arithmetic operators: multiplication, subtraction\n",
    "    \n",
    "    if attempts_left <= 0:\n",
    "        return False, 0\n",
    "    \n",
    "    user_answer = input(\"Enter your answer: \")\n",
    "    try:\n",
    "        user_answer = int(user_answer)\n",
    "        if user_answer == correct_answer:  # Conditional\n",
    "            print(\"Decrypted! You stole the secret data.\")\n",
    "            return True, attempts_left\n",
    "        else:\n",
    "            print(\"Wrong answer. Alarm triggered!\")\n",
    "            return False, 0\n",
    "    except ValueError:\n",
    "        print(\"Invalid input. Alarm triggered!\")\n",
    "        return False, 0\n",
    "\n",
    "# Main game function (demonstrating function composition and control flow)\n",
    "def play_game():\n",
    "    global alarm_triggered  # Using global variable\n",
    "    attempts_left = max_attempts\n",
    "    display_intro()\n",
    "    \n",
    "    # Bypass each layer sequentially\n",
    "    success, attempts_left = bypass_firewall(attempts_left)\n",
    "    if not success:\n",
    "        alarm_triggered = True\n",
    "        return\n",
    "    \n",
    "    success, attempts_left = bypass_password(attempts_left)\n",
    "    if not success:\n",
    "        alarm_triggered = True\n",
    "        return\n",
    "    \n",
    "    success, attempts_left = check_security_logs(attempts_left)\n",
    "    if not success:\n",
    "        alarm_triggered = True\n",
    "        return\n",
    "    \n",
    "    success, attempts_left = open_encrypted_vault(attempts_left)\n",
    "    if not success:\n",
    "        alarm_triggered = True\n",
    "        return\n",
    "    \n",
    "    # Win condition\n",
    "    print(\"\\nCongratulations! You won the game.\")\n",
    "\n",
    "# Run the game (entry point)\n",
    "if __name__ == \"__main__\":  # Conditional for script execution\n",
    "    play_game()\n",
    "    if alarm_triggered:\n",
    "        print(\"\\nGame Over: Alarm triggered!\")"
   ]
  },
  {
   "cell_type": "code",
   "execution_count": null,
   "id": "2b774c91-b803-4242-8e18-44b5837d4ee1",
   "metadata": {},
   "outputs": [],
   "source": []
  }
 ],
 "metadata": {
  "kernelspec": {
   "display_name": "Python [conda env:base] *",
   "language": "python",
   "name": "conda-base-py"
  },
  "language_info": {
   "codemirror_mode": {
    "name": "ipython",
    "version": 3
   },
   "file_extension": ".py",
   "mimetype": "text/x-python",
   "name": "python",
   "nbconvert_exporter": "python",
   "pygments_lexer": "ipython3",
   "version": "3.12.7"
  }
 },
 "nbformat": 4,
 "nbformat_minor": 5
}
